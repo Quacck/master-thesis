{
 "cells": [
  {
   "cell_type": "code",
   "execution_count": 1,
   "metadata": {},
   "outputs": [],
   "source": [
    "import sys\n",
    "sys.path.append('../carbs/src/')\n",
    "\n",
    "import carbon\n",
    "import scheduling as gaia_sched\n",
    "import power_consumption_profiles as pcp\n",
    "import plotly.express as px\n",
    "import plotly.graph_objects as go\n",
    "from scheduling.suspend_phases_scheduling_policy import SchedulerDebugOptions\n",
    "from typing import List\n",
    "import pulp\n"
   ]
  },
  {
   "cell_type": "code",
   "execution_count": 8,
   "metadata": {},
   "outputs": [
    {
     "name": "stdout",
     "output_type": "stream",
     "text": [
      "      index  carbon_intensity_avg                  datetime\n",
      "0       500                 0.426  2024-07-21T20:00:00.000Z\n",
      "1       501                 0.416  2024-07-21T21:00:00.000Z\n",
      "2       502                 0.412  2024-07-21T22:00:00.000Z\n",
      "3       503                 0.416  2024-07-21T23:00:00.000Z\n",
      "4       504                 0.407  2024-07-22T00:00:00.000Z\n",
      "...     ...                   ...                       ...\n",
      "1435   1935                 0.230  2024-09-19T15:00:00.000Z\n",
      "1436   1936                 0.513  2024-09-23T16:00:00.000Z\n",
      "1437   1937                 0.521  2024-09-23T17:00:00.000Z\n",
      "1438   1938                 0.525  2024-09-23T18:00:00.000Z\n",
      "1439   1939                 0.525  2024-09-23T19:00:00.000Z\n",
      "\n",
      "[1440 rows x 3 columns]\n",
      "scaled deadlines is: 30, spt: 1\n",
      "Set parameter Username\n",
      "Set parameter LogFile to value \"gurobi.log\"\n",
      "Set parameter Threads to value 4\n",
      "Using license file /opt/gurobi1103/gurobi.lic\n",
      "Academic license - for non-commercial use only - expires 2025-08-12\n",
      "\n",
      "Gurobi Optimizer version 11.0.3 build v11.0.3rc0 (linux64 - \"Ubuntu 23.10\")\n",
      "Copyright (c) 2024, Gurobi Optimization, LLC\n",
      "\n",
      "Read LP format model from file /tmp/5550f7620c2046b5a5c79318ddd646b9-pulp.lp\n",
      "Reading time = 0.01 seconds\n",
      "OBJ: 1699 rows, 690 columns, 4051 nonzeros\n",
      "\n",
      "CPU model: Intel(R) Core(TM) i5-7200U CPU @ 2.50GHz, instruction set [SSE2|AVX|AVX2]\n",
      "Thread count: 2 physical cores, 4 logical processors, using up to 4 threads\n",
      "\n",
      "Optimize a model with 1699 rows, 690 columns and 4051 nonzeros\n",
      "Model fingerprint: 0x095c4c8f\n",
      "Variable types: 0 continuous, 690 integer (630 binary)\n",
      "Coefficient statistics:\n",
      "  Matrix range     [1e+00, 6e+01]\n",
      "  Objective range  [3e+00, 5e+02]\n",
      "  Bounds range     [1e+00, 1e+01]\n",
      "  RHS range        [1e+00, 7e+01]\n",
      "Presolve removed 1123 rows and 305 columns\n",
      "Presolve time: 0.07s\n",
      "Presolved: 576 rows, 385 columns, 1577 nonzeros\n",
      "Variable types: 0 continuous, 385 integer (341 binary)\n",
      "Found heuristic solution: objective 559.7900000\n",
      "\n",
      "Root relaxation: objective 4.685876e+00, 214 iterations, 0.01 seconds (0.00 work units)\n",
      "\n",
      "    Nodes    |    Current Node    |     Objective Bounds      |     Work\n",
      " Expl Unexpl |  Obj  Depth IntInf | Incumbent    BestBd   Gap | It/Node Time\n",
      "\n",
      "     0     0    4.68588    0   78  559.79000    4.68588  99.2%     -    0s\n",
      "H    0     0                     538.9800000    4.68588  99.1%     -    0s\n",
      "H    0     0                     513.1800000   17.09212  96.7%     -    0s\n",
      "     0     0   17.09212    0  135  513.18000   17.09212  96.7%     -    0s\n",
      "     0     0   17.32613    0  134  513.18000   17.32613  96.6%     -    0s\n",
      "     0     0   17.34621    0  135  513.18000   17.34621  96.6%     -    0s\n",
      "H    0     0                     512.5100000   17.49017  96.6%     -    0s\n",
      "H    0     0                     492.4300000   17.49017  96.4%     -    0s\n",
      "H    0     0                     487.6000000   19.71605  96.0%     -    0s\n",
      "H    0     0                     479.3600000   19.71605  95.9%     -    0s\n",
      "     0     0   19.71605    0  155  479.36000   19.71605  95.9%     -    0s\n",
      "     0     0   20.26061    0  156  479.36000   20.26061  95.8%     -    0s\n",
      "     0     0   21.01534    0  150  479.36000   21.01534  95.6%     -    0s\n",
      "H    0     0                     430.1700000   21.01534  95.1%     -    0s\n",
      "     0     0   21.01534    0  150  430.17000   21.01534  95.1%     -    0s\n",
      "     0     0   74.95366    0  176  430.17000   74.95366  82.6%     -    0s\n",
      "H    0     0                     428.5200000   75.02938  82.5%     -    0s\n",
      "     0     0   75.81208    0  178  428.52000   75.81208  82.3%     -    0s\n",
      "     0     0   76.62089    0  197  428.52000   76.62089  82.1%     -    0s\n",
      "     0     0   76.75833    0  200  428.52000   76.75833  82.1%     -    0s\n",
      "     0     0   76.80736    0  202  428.52000   76.80736  82.1%     -    0s\n",
      "     0     0   96.45351    0  191  428.52000   96.45351  77.5%     -    0s\n",
      "     0     0   97.79789    0  135  428.52000   97.79789  77.2%     -    0s\n",
      "     0     0   98.44115    0  191  428.52000   98.44115  77.0%     -    0s\n",
      "     0     0   99.08675    0  190  428.52000   99.08675  76.9%     -    0s\n",
      "     0     0   99.10494    0  196  428.52000   99.10494  76.9%     -    0s\n",
      "     0     0  104.19870    0  178  428.52000  104.19870  75.7%     -    0s\n",
      "     0     0  105.01237    0  154  428.52000  105.01237  75.5%     -    0s\n",
      "     0     0  105.30318    0  178  428.52000  105.30318  75.4%     -    0s\n",
      "     0     0  105.62340    0  179  428.52000  105.62340  75.4%     -    0s\n",
      "     0     0  105.62340    0  183  428.52000  105.62340  75.4%     -    0s\n",
      "     0     0  106.23533    0  103  428.52000  106.23533  75.2%     -    1s\n",
      "     0     0  106.51072    0  172  428.52000  106.51072  75.1%     -    1s\n",
      "     0     0  106.60573    0  140  428.52000  106.60573  75.1%     -    1s\n",
      "     0     0  107.88688    0  167  428.52000  107.88688  74.8%     -    1s\n",
      "     0     0  108.37809    0  207  428.52000  108.37809  74.7%     -    1s\n",
      "     0     0  109.25090    0  163  428.52000  109.25090  74.5%     -    1s\n",
      "     0     0  109.86083    0  215  428.52000  109.86083  74.4%     -    1s\n",
      "     0     0  109.87673    0  172  428.52000  109.87673  74.4%     -    1s\n",
      "     0     0  110.18974    0  146  428.52000  110.18974  74.3%     -    1s\n",
      "     0     0  110.34141    0  198  428.52000  110.34141  74.3%     -    1s\n",
      "     0     0  110.35962    0  184  428.52000  110.35962  74.2%     -    1s\n",
      "     0     0  110.41177    0  194  428.52000  110.41177  74.2%     -    1s\n",
      "     0     0  112.41046    0  191  428.52000  112.41046  73.8%     -    1s\n",
      "     0     2  112.44455    0  190  428.52000  112.44455  73.8%     -    1s\n",
      "\n",
      "Cutting planes:\n",
      "  Learned: 56\n",
      "  Gomory: 12\n",
      "  Cover: 45\n",
      "  Implied bound: 97\n",
      "  Clique: 107\n",
      "  MIR: 65\n",
      "  StrongCG: 1\n",
      "  Flow cover: 4\n",
      "  Zero half: 3\n",
      "  RLT: 46\n",
      "  Relax-and-lift: 34\n",
      "  BQP: 15\n",
      "\n",
      "Explored 121 nodes (6293 simplex iterations) in 1.80 seconds (0.30 work units)\n",
      "Thread count was 4 (of 4 available processors)\n",
      "\n",
      "Solution count 9: 428.52 430.17 479.36 ... 559.79\n",
      "\n",
      "Optimal solution found (tolerance 1.00e-04)\n",
      "Best objective 4.285200000000e+02, best bound 4.285200000000e+02, gap 0.0000%\n",
      "\n",
      "Wrote result file '/tmp/5550f7620c2046b5a5c79318ddd646b9-pulp.sol'\n",
      "\n",
      "Status: Optimal\n",
      "5, 8, Wake up0\n",
      "9, 10, Coffee1\n",
      "11, 14, Work on Thesis2\n",
      "15, 16, Mensa3\n",
      "17, 18, Get Feedback4\n",
      "19, 22, Work on Thesis5\n"
     ]
    },
    {
     "data": {
      "application/vnd.plotly.v1+json": {
       "config": {
        "plotlyServerURL": "https://plot.ly"
       },
       "data": [
        {
         "hovertemplate": "_index=%{x}<br>carbon_intensity_avg=%{y}<extra></extra>",
         "legendgroup": "",
         "line": {
          "color": "#636efa",
          "dash": "solid"
         },
         "marker": {
          "symbol": "circle"
         },
         "mode": "lines",
         "name": "",
         "orientation": "v",
         "showlegend": false,
         "type": "scatter",
         "x": [
          0,
          1,
          2,
          3,
          4,
          5,
          6,
          7,
          8,
          9,
          10,
          11,
          12,
          13,
          14,
          15,
          16,
          17,
          18,
          19,
          20,
          21,
          22,
          23,
          24,
          25,
          26,
          27,
          28,
          29,
          30,
          31,
          32,
          33,
          34,
          35,
          36,
          37,
          38,
          39,
          40,
          41,
          42,
          43,
          44,
          45,
          46,
          47,
          48,
          49,
          50,
          51,
          52,
          53,
          54,
          55,
          56,
          57,
          58,
          59,
          60,
          61,
          62,
          63,
          64,
          65,
          66,
          67,
          68,
          69,
          70,
          71,
          72,
          73,
          74,
          75,
          76,
          77,
          78,
          79
         ],
         "xaxis": "x",
         "y": [
          0.426,
          0.416,
          0.412,
          0.416,
          0.407,
          0.4,
          0.39,
          0.38,
          0.369,
          0.352,
          0.316,
          0.25,
          0.193,
          0.174,
          0.165,
          0.165,
          0.163,
          0.169,
          0.178,
          0.226,
          0.291,
          0.39,
          0.449,
          0.475,
          0.469,
          0.44,
          0.412,
          0.4,
          0.399,
          0.401,
          0.409,
          0.411,
          0.393,
          0.378,
          0.359,
          0.316,
          0.251,
          0.21,
          0.198,
          0.186,
          0.183,
          0.188,
          0.209,
          0.262,
          0.36,
          0.404,
          0.431,
          0.452,
          0.469,
          0.467,
          0.43,
          0.413,
          0.404,
          0.399,
          0.405,
          0.416,
          0.42,
          0.413,
          0.383,
          0.335,
          0.276,
          0.225,
          0.19,
          0.173,
          0.169,
          0.169,
          0.182,
          0.227,
          0.3,
          0.397,
          0.457,
          0.483,
          0.496,
          0.497,
          0.498,
          0.514,
          0.517,
          0.51,
          0.518,
          0.507
         ],
         "yaxis": "y"
        }
       ],
       "layout": {
        "legend": {
         "tracegroupgap": 0
        },
        "margin": {
         "t": 60
        },
        "shapes": [
         {
          "fillcolor": "red",
          "label": {
           "text": "Wake up0",
           "textangle": -90
          },
          "layer": "below",
          "line": {
           "color": "rgba(0, 0, 0, 0)"
          },
          "name": "Wake up0",
          "type": "rect",
          "x0": 5,
          "x1": 9,
          "xref": "x",
          "y0": 0,
          "y1": 0.4,
          "yref": "y"
         },
         {
          "fillcolor": "red",
          "label": {
           "text": "Coffee1",
           "textangle": -90
          },
          "layer": "below",
          "line": {
           "color": "rgba(0, 0, 0, 0)"
          },
          "name": "Coffee1",
          "type": "rect",
          "x0": 9,
          "x1": 11,
          "xref": "x",
          "y0": 0,
          "y1": 0.4,
          "yref": "y"
         },
         {
          "fillcolor": "red",
          "label": {
           "text": "Work on Thesis2",
           "textangle": -90
          },
          "layer": "below",
          "line": {
           "color": "rgba(0, 0, 0, 0)"
          },
          "name": "Work on Thesis2",
          "type": "rect",
          "x0": 11,
          "x1": 15,
          "xref": "x",
          "y0": 0,
          "y1": 0.4,
          "yref": "y"
         },
         {
          "fillcolor": "red",
          "label": {
           "text": "Mensa3",
           "textangle": -90
          },
          "layer": "below",
          "line": {
           "color": "rgba(0, 0, 0, 0)"
          },
          "name": "Mensa3",
          "type": "rect",
          "x0": 15,
          "x1": 17,
          "xref": "x",
          "y0": 0,
          "y1": 0.4,
          "yref": "y"
         },
         {
          "fillcolor": "red",
          "label": {
           "text": "Get Feedback4",
           "textangle": -90
          },
          "layer": "below",
          "line": {
           "color": "rgba(0, 0, 0, 0)"
          },
          "name": "Get Feedback4",
          "type": "rect",
          "x0": 17,
          "x1": 19,
          "xref": "x",
          "y0": 0,
          "y1": 0.4,
          "yref": "y"
         },
         {
          "fillcolor": "red",
          "label": {
           "text": "Work on Thesis5",
           "textangle": -90
          },
          "layer": "below",
          "line": {
           "color": "rgba(0, 0, 0, 0)"
          },
          "name": "Work on Thesis5",
          "type": "rect",
          "x0": 19,
          "x1": 23,
          "xref": "x",
          "y0": 0,
          "y1": 0.4,
          "yref": "y"
         }
        ],
        "template": {
         "data": {
          "bar": [
           {
            "error_x": {
             "color": "#2a3f5f"
            },
            "error_y": {
             "color": "#2a3f5f"
            },
            "marker": {
             "line": {
              "color": "#E5ECF6",
              "width": 0.5
             },
             "pattern": {
              "fillmode": "overlay",
              "size": 10,
              "solidity": 0.2
             }
            },
            "type": "bar"
           }
          ],
          "barpolar": [
           {
            "marker": {
             "line": {
              "color": "#E5ECF6",
              "width": 0.5
             },
             "pattern": {
              "fillmode": "overlay",
              "size": 10,
              "solidity": 0.2
             }
            },
            "type": "barpolar"
           }
          ],
          "carpet": [
           {
            "aaxis": {
             "endlinecolor": "#2a3f5f",
             "gridcolor": "white",
             "linecolor": "white",
             "minorgridcolor": "white",
             "startlinecolor": "#2a3f5f"
            },
            "baxis": {
             "endlinecolor": "#2a3f5f",
             "gridcolor": "white",
             "linecolor": "white",
             "minorgridcolor": "white",
             "startlinecolor": "#2a3f5f"
            },
            "type": "carpet"
           }
          ],
          "choropleth": [
           {
            "colorbar": {
             "outlinewidth": 0,
             "ticks": ""
            },
            "type": "choropleth"
           }
          ],
          "contour": [
           {
            "colorbar": {
             "outlinewidth": 0,
             "ticks": ""
            },
            "colorscale": [
             [
              0,
              "#0d0887"
             ],
             [
              0.1111111111111111,
              "#46039f"
             ],
             [
              0.2222222222222222,
              "#7201a8"
             ],
             [
              0.3333333333333333,
              "#9c179e"
             ],
             [
              0.4444444444444444,
              "#bd3786"
             ],
             [
              0.5555555555555556,
              "#d8576b"
             ],
             [
              0.6666666666666666,
              "#ed7953"
             ],
             [
              0.7777777777777778,
              "#fb9f3a"
             ],
             [
              0.8888888888888888,
              "#fdca26"
             ],
             [
              1,
              "#f0f921"
             ]
            ],
            "type": "contour"
           }
          ],
          "contourcarpet": [
           {
            "colorbar": {
             "outlinewidth": 0,
             "ticks": ""
            },
            "type": "contourcarpet"
           }
          ],
          "heatmap": [
           {
            "colorbar": {
             "outlinewidth": 0,
             "ticks": ""
            },
            "colorscale": [
             [
              0,
              "#0d0887"
             ],
             [
              0.1111111111111111,
              "#46039f"
             ],
             [
              0.2222222222222222,
              "#7201a8"
             ],
             [
              0.3333333333333333,
              "#9c179e"
             ],
             [
              0.4444444444444444,
              "#bd3786"
             ],
             [
              0.5555555555555556,
              "#d8576b"
             ],
             [
              0.6666666666666666,
              "#ed7953"
             ],
             [
              0.7777777777777778,
              "#fb9f3a"
             ],
             [
              0.8888888888888888,
              "#fdca26"
             ],
             [
              1,
              "#f0f921"
             ]
            ],
            "type": "heatmap"
           }
          ],
          "heatmapgl": [
           {
            "colorbar": {
             "outlinewidth": 0,
             "ticks": ""
            },
            "colorscale": [
             [
              0,
              "#0d0887"
             ],
             [
              0.1111111111111111,
              "#46039f"
             ],
             [
              0.2222222222222222,
              "#7201a8"
             ],
             [
              0.3333333333333333,
              "#9c179e"
             ],
             [
              0.4444444444444444,
              "#bd3786"
             ],
             [
              0.5555555555555556,
              "#d8576b"
             ],
             [
              0.6666666666666666,
              "#ed7953"
             ],
             [
              0.7777777777777778,
              "#fb9f3a"
             ],
             [
              0.8888888888888888,
              "#fdca26"
             ],
             [
              1,
              "#f0f921"
             ]
            ],
            "type": "heatmapgl"
           }
          ],
          "histogram": [
           {
            "marker": {
             "pattern": {
              "fillmode": "overlay",
              "size": 10,
              "solidity": 0.2
             }
            },
            "type": "histogram"
           }
          ],
          "histogram2d": [
           {
            "colorbar": {
             "outlinewidth": 0,
             "ticks": ""
            },
            "colorscale": [
             [
              0,
              "#0d0887"
             ],
             [
              0.1111111111111111,
              "#46039f"
             ],
             [
              0.2222222222222222,
              "#7201a8"
             ],
             [
              0.3333333333333333,
              "#9c179e"
             ],
             [
              0.4444444444444444,
              "#bd3786"
             ],
             [
              0.5555555555555556,
              "#d8576b"
             ],
             [
              0.6666666666666666,
              "#ed7953"
             ],
             [
              0.7777777777777778,
              "#fb9f3a"
             ],
             [
              0.8888888888888888,
              "#fdca26"
             ],
             [
              1,
              "#f0f921"
             ]
            ],
            "type": "histogram2d"
           }
          ],
          "histogram2dcontour": [
           {
            "colorbar": {
             "outlinewidth": 0,
             "ticks": ""
            },
            "colorscale": [
             [
              0,
              "#0d0887"
             ],
             [
              0.1111111111111111,
              "#46039f"
             ],
             [
              0.2222222222222222,
              "#7201a8"
             ],
             [
              0.3333333333333333,
              "#9c179e"
             ],
             [
              0.4444444444444444,
              "#bd3786"
             ],
             [
              0.5555555555555556,
              "#d8576b"
             ],
             [
              0.6666666666666666,
              "#ed7953"
             ],
             [
              0.7777777777777778,
              "#fb9f3a"
             ],
             [
              0.8888888888888888,
              "#fdca26"
             ],
             [
              1,
              "#f0f921"
             ]
            ],
            "type": "histogram2dcontour"
           }
          ],
          "mesh3d": [
           {
            "colorbar": {
             "outlinewidth": 0,
             "ticks": ""
            },
            "type": "mesh3d"
           }
          ],
          "parcoords": [
           {
            "line": {
             "colorbar": {
              "outlinewidth": 0,
              "ticks": ""
             }
            },
            "type": "parcoords"
           }
          ],
          "pie": [
           {
            "automargin": true,
            "type": "pie"
           }
          ],
          "scatter": [
           {
            "fillpattern": {
             "fillmode": "overlay",
             "size": 10,
             "solidity": 0.2
            },
            "type": "scatter"
           }
          ],
          "scatter3d": [
           {
            "line": {
             "colorbar": {
              "outlinewidth": 0,
              "ticks": ""
             }
            },
            "marker": {
             "colorbar": {
              "outlinewidth": 0,
              "ticks": ""
             }
            },
            "type": "scatter3d"
           }
          ],
          "scattercarpet": [
           {
            "marker": {
             "colorbar": {
              "outlinewidth": 0,
              "ticks": ""
             }
            },
            "type": "scattercarpet"
           }
          ],
          "scattergeo": [
           {
            "marker": {
             "colorbar": {
              "outlinewidth": 0,
              "ticks": ""
             }
            },
            "type": "scattergeo"
           }
          ],
          "scattergl": [
           {
            "marker": {
             "colorbar": {
              "outlinewidth": 0,
              "ticks": ""
             }
            },
            "type": "scattergl"
           }
          ],
          "scattermapbox": [
           {
            "marker": {
             "colorbar": {
              "outlinewidth": 0,
              "ticks": ""
             }
            },
            "type": "scattermapbox"
           }
          ],
          "scatterpolar": [
           {
            "marker": {
             "colorbar": {
              "outlinewidth": 0,
              "ticks": ""
             }
            },
            "type": "scatterpolar"
           }
          ],
          "scatterpolargl": [
           {
            "marker": {
             "colorbar": {
              "outlinewidth": 0,
              "ticks": ""
             }
            },
            "type": "scatterpolargl"
           }
          ],
          "scatterternary": [
           {
            "marker": {
             "colorbar": {
              "outlinewidth": 0,
              "ticks": ""
             }
            },
            "type": "scatterternary"
           }
          ],
          "surface": [
           {
            "colorbar": {
             "outlinewidth": 0,
             "ticks": ""
            },
            "colorscale": [
             [
              0,
              "#0d0887"
             ],
             [
              0.1111111111111111,
              "#46039f"
             ],
             [
              0.2222222222222222,
              "#7201a8"
             ],
             [
              0.3333333333333333,
              "#9c179e"
             ],
             [
              0.4444444444444444,
              "#bd3786"
             ],
             [
              0.5555555555555556,
              "#d8576b"
             ],
             [
              0.6666666666666666,
              "#ed7953"
             ],
             [
              0.7777777777777778,
              "#fb9f3a"
             ],
             [
              0.8888888888888888,
              "#fdca26"
             ],
             [
              1,
              "#f0f921"
             ]
            ],
            "type": "surface"
           }
          ],
          "table": [
           {
            "cells": {
             "fill": {
              "color": "#EBF0F8"
             },
             "line": {
              "color": "white"
             }
            },
            "header": {
             "fill": {
              "color": "#C8D4E3"
             },
             "line": {
              "color": "white"
             }
            },
            "type": "table"
           }
          ]
         },
         "layout": {
          "annotationdefaults": {
           "arrowcolor": "#2a3f5f",
           "arrowhead": 0,
           "arrowwidth": 1
          },
          "autotypenumbers": "strict",
          "coloraxis": {
           "colorbar": {
            "outlinewidth": 0,
            "ticks": ""
           }
          },
          "colorscale": {
           "diverging": [
            [
             0,
             "#8e0152"
            ],
            [
             0.1,
             "#c51b7d"
            ],
            [
             0.2,
             "#de77ae"
            ],
            [
             0.3,
             "#f1b6da"
            ],
            [
             0.4,
             "#fde0ef"
            ],
            [
             0.5,
             "#f7f7f7"
            ],
            [
             0.6,
             "#e6f5d0"
            ],
            [
             0.7,
             "#b8e186"
            ],
            [
             0.8,
             "#7fbc41"
            ],
            [
             0.9,
             "#4d9221"
            ],
            [
             1,
             "#276419"
            ]
           ],
           "sequential": [
            [
             0,
             "#0d0887"
            ],
            [
             0.1111111111111111,
             "#46039f"
            ],
            [
             0.2222222222222222,
             "#7201a8"
            ],
            [
             0.3333333333333333,
             "#9c179e"
            ],
            [
             0.4444444444444444,
             "#bd3786"
            ],
            [
             0.5555555555555556,
             "#d8576b"
            ],
            [
             0.6666666666666666,
             "#ed7953"
            ],
            [
             0.7777777777777778,
             "#fb9f3a"
            ],
            [
             0.8888888888888888,
             "#fdca26"
            ],
            [
             1,
             "#f0f921"
            ]
           ],
           "sequentialminus": [
            [
             0,
             "#0d0887"
            ],
            [
             0.1111111111111111,
             "#46039f"
            ],
            [
             0.2222222222222222,
             "#7201a8"
            ],
            [
             0.3333333333333333,
             "#9c179e"
            ],
            [
             0.4444444444444444,
             "#bd3786"
            ],
            [
             0.5555555555555556,
             "#d8576b"
            ],
            [
             0.6666666666666666,
             "#ed7953"
            ],
            [
             0.7777777777777778,
             "#fb9f3a"
            ],
            [
             0.8888888888888888,
             "#fdca26"
            ],
            [
             1,
             "#f0f921"
            ]
           ]
          },
          "colorway": [
           "#636efa",
           "#EF553B",
           "#00cc96",
           "#ab63fa",
           "#FFA15A",
           "#19d3f3",
           "#FF6692",
           "#B6E880",
           "#FF97FF",
           "#FECB52"
          ],
          "font": {
           "color": "#2a3f5f"
          },
          "geo": {
           "bgcolor": "white",
           "lakecolor": "white",
           "landcolor": "#E5ECF6",
           "showlakes": true,
           "showland": true,
           "subunitcolor": "white"
          },
          "hoverlabel": {
           "align": "left"
          },
          "hovermode": "closest",
          "mapbox": {
           "style": "light"
          },
          "paper_bgcolor": "white",
          "plot_bgcolor": "#E5ECF6",
          "polar": {
           "angularaxis": {
            "gridcolor": "white",
            "linecolor": "white",
            "ticks": ""
           },
           "bgcolor": "#E5ECF6",
           "radialaxis": {
            "gridcolor": "white",
            "linecolor": "white",
            "ticks": ""
           }
          },
          "scene": {
           "xaxis": {
            "backgroundcolor": "#E5ECF6",
            "gridcolor": "white",
            "gridwidth": 2,
            "linecolor": "white",
            "showbackground": true,
            "ticks": "",
            "zerolinecolor": "white"
           },
           "yaxis": {
            "backgroundcolor": "#E5ECF6",
            "gridcolor": "white",
            "gridwidth": 2,
            "linecolor": "white",
            "showbackground": true,
            "ticks": "",
            "zerolinecolor": "white"
           },
           "zaxis": {
            "backgroundcolor": "#E5ECF6",
            "gridcolor": "white",
            "gridwidth": 2,
            "linecolor": "white",
            "showbackground": true,
            "ticks": "",
            "zerolinecolor": "white"
           }
          },
          "shapedefaults": {
           "line": {
            "color": "#2a3f5f"
           }
          },
          "ternary": {
           "aaxis": {
            "gridcolor": "white",
            "linecolor": "white",
            "ticks": ""
           },
           "baxis": {
            "gridcolor": "white",
            "linecolor": "white",
            "ticks": ""
           },
           "bgcolor": "#E5ECF6",
           "caxis": {
            "gridcolor": "white",
            "linecolor": "white",
            "ticks": ""
           }
          },
          "title": {
           "x": 0.05
          },
          "xaxis": {
           "automargin": true,
           "gridcolor": "white",
           "linecolor": "white",
           "ticks": "",
           "title": {
            "standoff": 15
           },
           "zerolinecolor": "white",
           "zerolinewidth": 2
          },
          "yaxis": {
           "automargin": true,
           "gridcolor": "white",
           "linecolor": "white",
           "ticks": "",
           "title": {
            "standoff": 15
           },
           "zerolinecolor": "white",
           "zerolinewidth": 2
          }
         }
        },
        "xaxis": {
         "anchor": "y",
         "domain": [
          0,
          1
         ],
         "title": {
          "text": "_index"
         }
        },
        "yaxis": {
         "anchor": "x",
         "domain": [
          0,
          1
         ],
         "title": {
          "text": "carbon_intensity_avg"
         }
        }
       }
      }
     },
     "metadata": {},
     "output_type": "display_data"
    }
   ],
   "source": [
    "start_index = 500\n",
    "\n",
    "carbon_model = carbon.get_carbon_model(\"DE-hourly-start-july\", start_index, \"ORACLE\", True).reindex(0)\n",
    "\n",
    "print(carbon_model.df)\n",
    "\n",
    "df = carbon_model.df.head(80)\n",
    "\n",
    "fig_carbon = px.line(df, x=df.index, y=\"carbon_intensity_avg\")\n",
    "\n",
    "scheduler = gaia_sched.SuspendSchedulingDynamicPowerPolicy(None, carbon_model)\n",
    "\n",
    "vincent_stawp = pcp.PowerFunction({\n",
    "    'startup': [\n",
    "        {'name': 'Wake up', 'duration': 4, 'power': 20}, # lol\n",
    "        {'name': 'Coffee', 'duration': 2, 'power': 30}\n",
    "    ],\n",
    "    'work': [\n",
    "        {'name': 'Work on Thesis', 'duration': 4, 'power': 20},\n",
    "        {'name': 'Mensa', 'duration': 2, 'power': 1000},\n",
    "        {'name': 'Get Feedback', 'duration': 2, 'power': 20},\n",
    "        {'name': 'Work on Thesis', 'duration': 4, 'power': 20},\n",
    "    ]\n",
    "})\n",
    "\n",
    "options = SchedulerDebugOptions(\n",
    "        use_startup=True, \n",
    "        dynamic_power=True, \n",
    "        use_progress=True, \n",
    "        linearize=True,\n",
    "        timelimit=None,\n",
    "        scale_time=False,\n",
    ")\n",
    "\n",
    "result_1 = scheduler.find_execution_times(carbon_model, 30, vincent_stawp, options)\n",
    "\n",
    "def find_upper_lower_index_for_phases(bool_list: List[bool]):\n",
    "    groups = []\n",
    "    start_index = None\n",
    "\n",
    "    for i, value in enumerate(bool_list):\n",
    "        if value: \n",
    "            if start_index is None:\n",
    "                start_index = i\n",
    "        else:\n",
    "            if start_index is not None:\n",
    "                groups.append((start_index, i - 1)) \n",
    "                start_index = None\n",
    "\n",
    "    if start_index is not None:\n",
    "        groups.append((start_index, len(bool_list) - 1))\n",
    "\n",
    "    # Output the result\n",
    "    return groups\n",
    "\n",
    "phases_variables_with_name = [\n",
    "    *[(value['variable'], key) for (key, value) in result_1[\"lin_function_dicts\"]['startup'].items()],\n",
    "    *[(value['variable'], key) for (key, value) in result_1[\"lin_function_dicts\"]['work'].items()]\n",
    "]\n",
    "\n",
    "for variable, name in phases_variables_with_name:\n",
    "    bools = [True if pulp.value(variable[t]) > 0 else False for t in range(len(variable))]\n",
    "    groups = find_upper_lower_index_for_phases(bools)\n",
    "    for start, end in groups:\n",
    "        print(f\"{start}, {end}, {name}\")\n",
    "        fig_carbon.add_shape(type='rect',\n",
    "            name=name, layer=\"below\",\n",
    "            label=dict(text=name, textangle=-90),\n",
    "            x0=start, y0=0, x1=end+1, y1=0.4,\n",
    "            line=dict(color='rgba(0, 0, 0, 0)'),\n",
    "            row=1, col=1,\n",
    "            fillcolor=\"red\"\n",
    "        )\n",
    "\n",
    "fig_carbon.show()"
   ]
  }
 ],
 "metadata": {
  "kernelspec": {
   "display_name": ".venv",
   "language": "python",
   "name": "python3"
  },
  "language_info": {
   "codemirror_mode": {
    "name": "ipython",
    "version": 3
   },
   "file_extension": ".py",
   "mimetype": "text/x-python",
   "name": "python",
   "nbconvert_exporter": "python",
   "pygments_lexer": "ipython3",
   "version": "3.11.6"
  }
 },
 "nbformat": 4,
 "nbformat_minor": 2
}
