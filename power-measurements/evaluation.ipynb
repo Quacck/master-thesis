{
 "cells": [
  {
   "cell_type": "code",
   "execution_count": null,
   "metadata": {},
   "outputs": [],
   "source": [
    "import pandas as pd\n",
    "\n",
    "# Read the CSV file into a DataFrame\n",
    "df = pd.read_csv('data/measurements_sleep_0.csv')\n",
    "\n",
    "start_time = df.iloc[-2]\n",
    "end_time = df.iloc[-1]\n",
    "\n",
    "print(start_time)\n",
    "print(end_time)\n",
    "\n",
    "# Omit the last two rows\n",
    "df = df.iloc[:-2]\n",
    "\n",
    "# Now df contains the DataFrame without the last two rows\n",
    "print(df)\n"
   ]
  }
 ],
 "metadata": {
  "language_info": {
   "name": "python"
  }
 },
 "nbformat": 4,
 "nbformat_minor": 2
}
